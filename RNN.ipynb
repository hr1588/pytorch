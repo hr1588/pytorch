{
 "cells": [
  {
   "cell_type": "markdown",
   "metadata": {},
   "source": [
    "# 순환 신경망"
   ]
  },
  {
   "cell_type": "markdown",
   "metadata": {},
   "source": [
    "### 1. 라이브러리 설치 및 예시 문장 제작"
   ]
  },
  {
   "cell_type": "code",
   "execution_count": 1,
   "metadata": {},
   "outputs": [],
   "source": [
    "import torch\n",
    "import torch.nn as nn\n",
    "import torch.optim as optim\n",
    "import numpy as np\n",
    "\n",
    "n_hidden = 35\n",
    "lr = 0.01\n",
    "epochs = 100"
   ]
  },
  {
   "cell_type": "code",
   "execution_count": 2,
   "metadata": {},
   "outputs": [],
   "source": [
    "string = \"hello pytorch. how long can a rnn cell remember? show me your limit!\"\n",
    "chars =  \"abcdefghijklmnopqrstuvwxyz ?!.,:;01\"\n",
    "\n",
    "char_list = [i for i in chars]\n",
    "n_letters = len(char_list)"
   ]
  },
  {
   "cell_type": "markdown",
   "metadata": {},
   "source": [
    "### 2. 필요한 함수 선언"
   ]
  },
  {
   "cell_type": "code",
   "execution_count": 5,
   "metadata": {},
   "outputs": [],
   "source": [
    "# 문자열을 one-hot vector의 stack으로 만드는 함수\n",
    "\n",
    "def string_to_onehot(string):\n",
    "    start = np.zeros(shape=n_letters, dtype=int) # start token\n",
    "    end = np.zeros(shape=n_letters,dtype=int)    # end token\n",
    "    start[-2] = 1\n",
    "    end[-1] = 1\n",
    "    for i in string:\n",
    "        idx = char_list.index(i)\n",
    "        zero = np.zeros(shape=n_letters, dtype=int)\n",
    "        zero[idx] = 1\n",
    "        start = np.vstack([start,zero])\n",
    "    \n",
    "    output = np.vstack([start, end])\n",
    "    return output"
   ]
  },
  {
   "cell_type": "code",
   "execution_count": 7,
   "metadata": {},
   "outputs": [],
   "source": [
    "# one-hot vector를 문자로 바꿔주는 함수\n",
    "\n",
    "def onehot_to_word(onehot_1):\n",
    "    onehot = torch.Tensor.numpy(onehot_1) # Tensor를 입력받아 numpy로 변경\n",
    "    return char_list[onehot.argmax()]     # one-hot 벡터의 최대값(-1) 위치 index로 문자 탐색"
   ]
  },
  {
   "cell_type": "markdown",
   "metadata": {},
   "source": [
    "\n",
    "### 3. 모델 구축 및 평가"
   ]
  },
  {
   "cell_type": "code",
   "execution_count": 14,
   "metadata": {},
   "outputs": [],
   "source": [
    "# 순환 신경망\n",
    "\n",
    "class RNN(nn.Module):\n",
    "    def __init__(self, input_size, hidden_size, output_size):\n",
    "        super(RNN, self).__init__()\n",
    "        \n",
    "        self.input_size = input_size\n",
    "        self.hidden_size = hidden_size\n",
    "        self.output_size = output_size\n",
    "        \n",
    "        self.i2h = nn.Linear(input_size + hidden_size, hidden_size)\n",
    "        self.i2o = nn.Linear(input_size + hidden_size, output_size)\n",
    "        self.act_fn = nn.Tanh()\n",
    "    \n",
    "    def forward(self, input, hidden):\n",
    "        combined = torch.cat((input, hidden), 1) # 입력과 hidden state를 cat으로 결합\n",
    "        hidden = self.act_fn(self.i2h(combined))\n",
    "        output = self.i2o(combined)\n",
    "        return output, hidden # 결합한 값을 i2h및 i2o에 통과시켜 hidden state를 업데이트하고, 결과값을 계산\n",
    "    \n",
    "    def init_hidden(self):\n",
    "        return torch.zeros(1, self.hidden_size) # 입력이 없을 때(t=0) hidden_state 초기화\n",
    "    \n",
    "rnn = RNN(n_letters, n_hidden, n_letters)"
   ]
  },
  {
   "cell_type": "code",
   "execution_count": 15,
   "metadata": {},
   "outputs": [],
   "source": [
    "loss_func = nn.MSELoss()\n",
    "optimizer = torch.optim.Adam(rnn.parameters(), lr = lr)"
   ]
  },
  {
   "cell_type": "code",
   "execution_count": 16,
   "metadata": {},
   "outputs": [
    {
     "name": "stdout",
     "output_type": "stream",
     "text": [
      "tensor(2.6785, grad_fn=<AddBackward0>)\n",
      "tensor(1.1156, grad_fn=<AddBackward0>)\n",
      "tensor(0.6694, grad_fn=<AddBackward0>)\n",
      "tensor(0.4131, grad_fn=<AddBackward0>)\n",
      "tensor(0.3118, grad_fn=<AddBackward0>)\n",
      "tensor(0.2210, grad_fn=<AddBackward0>)\n",
      "tensor(0.1637, grad_fn=<AddBackward0>)\n",
      "tensor(0.1322, grad_fn=<AddBackward0>)\n",
      "tensor(0.1064, grad_fn=<AddBackward0>)\n",
      "tensor(0.0891, grad_fn=<AddBackward0>)\n"
     ]
    }
   ],
   "source": [
    "# train\n",
    "\n",
    "one_hot = torch.from_numpy(string_to_onehot(string)).type_as(torch.FloatTensor())\n",
    "\n",
    "for i in range(epochs):\n",
    "    optimizer.zero_grad()\n",
    "    hidden = rnn.init_hidden()\n",
    "    \n",
    "    total_loss = 0\n",
    "    for j in range(one_hot.size()[0]-1):\n",
    "        # 입력은 앞의 글자\n",
    "        input_ = one_hot[j:j+1,:]\n",
    "        target = one_hot[j+1]\n",
    "        output, hidden = rnn.forward(input_, hidden)\n",
    "        \n",
    "        loss = loss_func(output.view(-1), target.view(-1))\n",
    "        total_loss += loss\n",
    "    \n",
    "    total_loss.backward()\n",
    "    optimizer.step()\n",
    "    \n",
    "    if i % 10 == 0:\n",
    "        print(total_loss)"
   ]
  },
  {
   "cell_type": "code",
   "execution_count": 18,
   "metadata": {},
   "outputs": [
    {
     "name": "stdout",
     "output_type": "stream",
     "text": [
      "hello pytorcr  hoowlm a me me r l mem m mrimilimlilelimiml1limimimli\n"
     ]
    }
   ],
   "source": [
    "# test\n",
    "\n",
    "start = torch.zeros(1, n_letters)\n",
    "start[:,-2] = 1\n",
    "\n",
    "with torch.no_grad():\n",
    "    hidden = rnn.init_hidden()\n",
    "    input_ = start\n",
    "    output_string = \"\"\n",
    "    \n",
    "    for i in range(len(string)):\n",
    "        output, hidden = rnn.forward(input_, hidden)\n",
    "        output_string += onehot_to_word(output.data)\n",
    "        input_ = output\n",
    "\n",
    "print(output_string)"
   ]
  },
  {
   "cell_type": "code",
   "execution_count": null,
   "metadata": {},
   "outputs": [],
   "source": []
  }
 ],
 "metadata": {
  "kernelspec": {
   "display_name": "Python 3",
   "language": "python",
   "name": "python3"
  },
  "language_info": {
   "codemirror_mode": {
    "name": "ipython",
    "version": 3
   },
   "file_extension": ".py",
   "mimetype": "text/x-python",
   "name": "python",
   "nbconvert_exporter": "python",
   "pygments_lexer": "ipython3",
   "version": "3.10.10"
  },
  "orig_nbformat": 4
 },
 "nbformat": 4,
 "nbformat_minor": 2
}
