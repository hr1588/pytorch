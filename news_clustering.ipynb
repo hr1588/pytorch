{
 "cells": [
  {
   "cell_type": "markdown",
   "metadata": {},
   "source": [
    "# 데이터 로드"
   ]
  },
  {
   "cell_type": "code",
   "execution_count": 1,
   "metadata": {},
   "outputs": [],
   "source": [
    "import pandas as pd\n",
    "import re\n",
    "import numpy as np\n",
    "\n",
    "data = pd.read_csv('data/news.csv')"
   ]
  },
  {
   "cell_type": "code",
   "execution_count": null,
   "metadata": {},
   "outputs": [],
   "source": [
    "data['intersection'] = data.apply(lambda row:\" \".join(set(row['title'].split()).intersection(set(row['contents'].split()))), axis=1)"
   ]
  },
  {
   "cell_type": "code",
   "execution_count": 2,
   "metadata": {},
   "outputs": [
    {
     "name": "stdout",
     "output_type": "stream",
     "text": [
      "   category           info\n",
      "0         0       Business\n",
      "1         1  Entertainment\n",
      "2         2       Politics\n",
      "3         3         Sports\n",
      "4         4           Tech\n",
      "5         5          World\n"
     ]
    }
   ],
   "source": [
    "category = {'category': [0,1,2,3,4,5], 'info':['Business','Entertainment','Politics','Sports','Tech','World']}\n",
    "category_data = pd.DataFrame(category)\n",
    "print(category_data)"
   ]
  },
  {
   "cell_type": "markdown",
   "metadata": {},
   "source": [
    "# 전처리"
   ]
  },
  {
   "cell_type": "code",
   "execution_count": 3,
   "metadata": {},
   "outputs": [
    {
     "data": {
      "text/html": [
       "<div>\n",
       "<style scoped>\n",
       "    .dataframe tbody tr th:only-of-type {\n",
       "        vertical-align: middle;\n",
       "    }\n",
       "\n",
       "    .dataframe tbody tr th {\n",
       "        vertical-align: top;\n",
       "    }\n",
       "\n",
       "    .dataframe thead th {\n",
       "        text-align: right;\n",
       "    }\n",
       "</style>\n",
       "<table border=\"1\" class=\"dataframe\">\n",
       "  <thead>\n",
       "    <tr style=\"text-align: right;\">\n",
       "      <th></th>\n",
       "      <th>id</th>\n",
       "      <th>title</th>\n",
       "      <th>contents</th>\n",
       "      <th>text</th>\n",
       "    </tr>\n",
       "  </thead>\n",
       "  <tbody>\n",
       "    <tr>\n",
       "      <th>0</th>\n",
       "      <td>NEWS_00000</td>\n",
       "      <td>Spanish coach facing action in race row</td>\n",
       "      <td>MADRID (AFP) - Spanish national team coach Lui...</td>\n",
       "      <td>Spanish coach facing action in race row:MADRID...</td>\n",
       "    </tr>\n",
       "    <tr>\n",
       "      <th>1</th>\n",
       "      <td>NEWS_00001</td>\n",
       "      <td>Bruce Lee statue for divided city</td>\n",
       "      <td>In Bosnia, where one man #39;s hero is often a...</td>\n",
       "      <td>Bruce Lee statue for divided city:In Bosnia, w...</td>\n",
       "    </tr>\n",
       "    <tr>\n",
       "      <th>2</th>\n",
       "      <td>NEWS_00002</td>\n",
       "      <td>Only Lovers Left Alive's Tilda Swinton Talks A...</td>\n",
       "      <td>Yasmine Hamdan performs 'Hal' which she also s...</td>\n",
       "      <td>Only Lovers Left Alive's Tilda Swinton Talks A...</td>\n",
       "    </tr>\n",
       "    <tr>\n",
       "      <th>3</th>\n",
       "      <td>NEWS_00003</td>\n",
       "      <td>Macromedia contributes to eBay Stores</td>\n",
       "      <td>Macromedia has announced a special version of ...</td>\n",
       "      <td>Macromedia contributes to eBay Stores:Macromed...</td>\n",
       "    </tr>\n",
       "    <tr>\n",
       "      <th>4</th>\n",
       "      <td>NEWS_00004</td>\n",
       "      <td>Qualcomm plans to phone it in on cellular repairs</td>\n",
       "      <td>Over-the-air fixes for cell phones comes to Qu...</td>\n",
       "      <td>Qualcomm plans to phone it in on cellular repa...</td>\n",
       "    </tr>\n",
       "  </tbody>\n",
       "</table>\n",
       "</div>"
      ],
      "text/plain": [
       "           id                                              title  \\\n",
       "0  NEWS_00000            Spanish coach facing action in race row   \n",
       "1  NEWS_00001                  Bruce Lee statue for divided city   \n",
       "2  NEWS_00002  Only Lovers Left Alive's Tilda Swinton Talks A...   \n",
       "3  NEWS_00003              Macromedia contributes to eBay Stores   \n",
       "4  NEWS_00004  Qualcomm plans to phone it in on cellular repairs   \n",
       "\n",
       "                                            contents  \\\n",
       "0  MADRID (AFP) - Spanish national team coach Lui...   \n",
       "1  In Bosnia, where one man #39;s hero is often a...   \n",
       "2  Yasmine Hamdan performs 'Hal' which she also s...   \n",
       "3  Macromedia has announced a special version of ...   \n",
       "4  Over-the-air fixes for cell phones comes to Qu...   \n",
       "\n",
       "                                                text  \n",
       "0  Spanish coach facing action in race row:MADRID...  \n",
       "1  Bruce Lee statue for divided city:In Bosnia, w...  \n",
       "2  Only Lovers Left Alive's Tilda Swinton Talks A...  \n",
       "3  Macromedia contributes to eBay Stores:Macromed...  \n",
       "4  Qualcomm plans to phone it in on cellular repa...  "
      ]
     },
     "execution_count": 3,
     "metadata": {},
     "output_type": "execute_result"
    }
   ],
   "source": [
    "data['text'] = data['title'] + ':' + data['contents']\n",
    "data.head()"
   ]
  },
  {
   "cell_type": "code",
   "execution_count": 4,
   "metadata": {},
   "outputs": [
    {
     "name": "stderr",
     "output_type": "stream",
     "text": [
      "[nltk_data] Downloading package punkt to\n",
      "[nltk_data]     C:\\Users\\이동현\\AppData\\Roaming\\nltk_data...\n",
      "[nltk_data]   Package punkt is already up-to-date!\n",
      "[nltk_data] Downloading package stopwords to\n",
      "[nltk_data]     C:\\Users\\이동현\\AppData\\Roaming\\nltk_data...\n",
      "[nltk_data]   Package stopwords is already up-to-date!\n"
     ]
    },
    {
     "data": {
      "text/html": [
       "<div>\n",
       "<style scoped>\n",
       "    .dataframe tbody tr th:only-of-type {\n",
       "        vertical-align: middle;\n",
       "    }\n",
       "\n",
       "    .dataframe tbody tr th {\n",
       "        vertical-align: top;\n",
       "    }\n",
       "\n",
       "    .dataframe thead th {\n",
       "        text-align: right;\n",
       "    }\n",
       "</style>\n",
       "<table border=\"1\" class=\"dataframe\">\n",
       "  <thead>\n",
       "    <tr style=\"text-align: right;\">\n",
       "      <th></th>\n",
       "      <th>id</th>\n",
       "      <th>title</th>\n",
       "      <th>contents</th>\n",
       "      <th>text</th>\n",
       "    </tr>\n",
       "  </thead>\n",
       "  <tbody>\n",
       "    <tr>\n",
       "      <th>0</th>\n",
       "      <td>NEWS_00000</td>\n",
       "      <td>Spanish coach facing action in race row</td>\n",
       "      <td>MADRID (AFP) - Spanish national team coach Lui...</td>\n",
       "      <td>spanish coach facing action race rowmadrid afp...</td>\n",
       "    </tr>\n",
       "    <tr>\n",
       "      <th>1</th>\n",
       "      <td>NEWS_00001</td>\n",
       "      <td>Bruce Lee statue for divided city</td>\n",
       "      <td>In Bosnia, where one man #39;s hero is often a...</td>\n",
       "      <td>bruce lee statue divided cityin bosnia , one m...</td>\n",
       "    </tr>\n",
       "    <tr>\n",
       "      <th>2</th>\n",
       "      <td>NEWS_00002</td>\n",
       "      <td>Only Lovers Left Alive's Tilda Swinton Talks A...</td>\n",
       "      <td>Yasmine Hamdan performs 'Hal' which she also s...</td>\n",
       "      <td>lovers left alives tilda swinton talks almost ...</td>\n",
       "    </tr>\n",
       "    <tr>\n",
       "      <th>3</th>\n",
       "      <td>NEWS_00003</td>\n",
       "      <td>Macromedia contributes to eBay Stores</td>\n",
       "      <td>Macromedia has announced a special version of ...</td>\n",
       "      <td>macromedia contributes ebay storesmacromedia a...</td>\n",
       "    </tr>\n",
       "    <tr>\n",
       "      <th>4</th>\n",
       "      <td>NEWS_00004</td>\n",
       "      <td>Qualcomm plans to phone it in on cellular repairs</td>\n",
       "      <td>Over-the-air fixes for cell phones comes to Qu...</td>\n",
       "      <td>qualcomm plans phone cellular repairsovertheai...</td>\n",
       "    </tr>\n",
       "  </tbody>\n",
       "</table>\n",
       "</div>"
      ],
      "text/plain": [
       "           id                                              title  \\\n",
       "0  NEWS_00000            Spanish coach facing action in race row   \n",
       "1  NEWS_00001                  Bruce Lee statue for divided city   \n",
       "2  NEWS_00002  Only Lovers Left Alive's Tilda Swinton Talks A...   \n",
       "3  NEWS_00003              Macromedia contributes to eBay Stores   \n",
       "4  NEWS_00004  Qualcomm plans to phone it in on cellular repairs   \n",
       "\n",
       "                                            contents  \\\n",
       "0  MADRID (AFP) - Spanish national team coach Lui...   \n",
       "1  In Bosnia, where one man #39;s hero is often a...   \n",
       "2  Yasmine Hamdan performs 'Hal' which she also s...   \n",
       "3  Macromedia has announced a special version of ...   \n",
       "4  Over-the-air fixes for cell phones comes to Qu...   \n",
       "\n",
       "                                                text  \n",
       "0  spanish coach facing action race rowmadrid afp...  \n",
       "1  bruce lee statue divided cityin bosnia , one m...  \n",
       "2  lovers left alives tilda swinton talks almost ...  \n",
       "3  macromedia contributes ebay storesmacromedia a...  \n",
       "4  qualcomm plans phone cellular repairsovertheai...  "
      ]
     },
     "execution_count": 4,
     "metadata": {},
     "output_type": "execute_result"
    }
   ],
   "source": [
    "import re\n",
    "import nltk\n",
    "from nltk.corpus import stopwords\n",
    "from nltk.tokenize import word_tokenize\n",
    "\n",
    "nltk.download('punkt')\n",
    "nltk.download('stopwords')\n",
    "\n",
    "def preprocess_text(text):\n",
    "    \n",
    "    # text 소문자화\n",
    "    text = text.lower()\n",
    "    \n",
    "    # URL 제거\n",
    "    text = re.sub(r'http\\S+|www\\S+|https\\S+', '', text, flags=re.MULTILINE)\n",
    "    \n",
    "    # 해시태그 제거\n",
    "    text = re.sub(r'#\\w+', '', text)\n",
    "    \n",
    "    # 멘션 제거\n",
    "    text = re.sub(r'@\\w+', '', text)\n",
    "    \n",
    "    # 이모지 제거\n",
    "    text = text.encode('ascii', 'ignore').decode('ascii')\n",
    "    \n",
    "    # 날짜 및 기자 이름 등 불필요한 정보가 포함된 문자열 패턴 삭제\n",
    "    text = re.sub(r'\\b(January|February|March|April|May|June|July|August|September|October|November|December)\\b \\d{1,2}, \\d{4}', '', text)\n",
    "    \n",
    "    # 숫자와 일부 특수문자('.', ',', '!')만 남기고 모두 삭제 \n",
    "    # (문장 구조 정보 유지를 위해 일부 구두점은 유지하되, 그 외 불필요한 문자는 삭제)\n",
    "    text = re.sub(r'[^\\w\\s.,!]', '',  text)\n",
    "\n",
    "    # Stopwords removal - NLTK library 사용 \n",
    "    stop_words = set(stopwords.words('english'))\n",
    "    word_tokens = word_tokenize(text) \n",
    "    filtered_text = [word for word in word_tokens if not word in stop_words]\n",
    "\n",
    "    return ' '.join(filtered_text).lower()\n",
    "\n",
    "data['text'] = data['text'].apply(preprocess_text)\n",
    "data.head()"
   ]
  },
  {
   "cell_type": "markdown",
   "metadata": {},
   "source": [
    "# Baseline"
   ]
  },
  {
   "cell_type": "code",
   "execution_count": null,
   "metadata": {},
   "outputs": [],
   "source": [
    "import random\n",
    "from sentence_transformers import SentenceTransformer\n",
    "from sklearn.cluster import KMeans\n",
    "\n",
    "# Sentence BERT 모델 로드\n",
    "model = SentenceTransformer('sentence-transformers/all-MiniLM-L6-v2')\n",
    "\n",
    "# 텍스트 feature 추출\n",
    "sentence_embeddings = model.encode(data['text'].tolist())\n",
    "\n",
    "# 추출한 feature를 데이터프레임에 저장\n",
    "df_embeddings = pd.DataFrame(sentence_embeddings)\n",
    "df_embeddings"
   ]
  },
  {
   "cell_type": "code",
   "execution_count": null,
   "metadata": {},
   "outputs": [],
   "source": [
    "# Sentence BERT 임베딩을 사용하여 군집화 수행\n",
    "kmeans = KMeans(n_clusters=6, random_state=42)\n",
    "\n",
    "data['kmeans_cluster'] = kmeans.fit_predict(sentence_embeddings)\n",
    "data.head()"
   ]
  },
  {
   "cell_type": "code",
   "execution_count": null,
   "metadata": {},
   "outputs": [],
   "source": [
    "category_data"
   ]
  },
  {
   "cell_type": "code",
   "execution_count": null,
   "metadata": {},
   "outputs": [],
   "source": [
    "data[data['kmeans_cluster'] == 0]['text'].head(5) # world"
   ]
  },
  {
   "cell_type": "code",
   "execution_count": null,
   "metadata": {},
   "outputs": [],
   "source": [
    "print(data['text'][1])\n",
    "print(data['text'][10])\n",
    "print(data['text'][29])\n",
    "print(data['text'][34])\n",
    "print(data['text'][37])"
   ]
  },
  {
   "cell_type": "code",
   "execution_count": null,
   "metadata": {},
   "outputs": [],
   "source": [
    "data[data['kmeans_cluster'] == 1]['text'].head(5) # sport"
   ]
  },
  {
   "cell_type": "code",
   "execution_count": null,
   "metadata": {},
   "outputs": [],
   "source": [
    "print(data['text'][0])\n",
    "print(data['text'][13])\n",
    "print(data['text'][21])\n",
    "print(data['text'][22])\n",
    "print(data['text'][24])"
   ]
  },
  {
   "cell_type": "code",
   "execution_count": null,
   "metadata": {},
   "outputs": [],
   "source": [
    "data[data['kmeans_cluster'] == 2]['text'].head(5) # Tech"
   ]
  },
  {
   "cell_type": "code",
   "execution_count": null,
   "metadata": {},
   "outputs": [],
   "source": [
    "print(data['text'][3])\n",
    "print(data['text'][4])\n",
    "print(data['text'][5])\n",
    "print(data['text'][23])\n",
    "print(data['text'][31])"
   ]
  },
  {
   "cell_type": "code",
   "execution_count": null,
   "metadata": {},
   "outputs": [],
   "source": [
    "data[data['kmeans_cluster'] == 3]['text'].head(5) # entertainment"
   ]
  },
  {
   "cell_type": "code",
   "execution_count": null,
   "metadata": {},
   "outputs": [],
   "source": [
    "print(data['text'][2])\n",
    "print(data['text'][6])\n",
    "print(data['text'][8])\n",
    "print(data['text'][9])\n",
    "print(data['text'][11])"
   ]
  },
  {
   "cell_type": "code",
   "execution_count": null,
   "metadata": {},
   "outputs": [],
   "source": [
    "data[data['kmeans_cluster'] == 4]['text'].head(5) # Business"
   ]
  },
  {
   "cell_type": "code",
   "execution_count": null,
   "metadata": {},
   "outputs": [],
   "source": [
    "print(data['text'][7])\n",
    "print(data['text'][19])\n",
    "print(data['text'][20])\n",
    "print(data['text'][27])\n",
    "print(data['text'][51])"
   ]
  },
  {
   "cell_type": "code",
   "execution_count": null,
   "metadata": {},
   "outputs": [],
   "source": [
    "data[data['kmeans_cluster'] == 5]['text'].head(5) # politics"
   ]
  },
  {
   "cell_type": "code",
   "execution_count": null,
   "metadata": {},
   "outputs": [],
   "source": [
    "print(data['text'][18])\n",
    "print(data['text'][25])\n",
    "print(data['text'][33])"
   ]
  },
  {
   "cell_type": "code",
   "execution_count": null,
   "metadata": {},
   "outputs": [],
   "source": [
    "data['kmeans_cluster'].value_counts()"
   ]
  },
  {
   "cell_type": "code",
   "execution_count": null,
   "metadata": {},
   "outputs": [],
   "source": [
    "mapping_dict = {\n",
    "    0: 5,\n",
    "    1: 3,\n",
    "    2: 4,\n",
    "    3: 1,\n",
    "    4: 0,\n",
    "    5: 2\n",
    "}\n",
    "\n",
    "data['mapping'] = data['kmeans_cluster'].apply(lambda x : mapping_dict[x])"
   ]
  },
  {
   "cell_type": "code",
   "execution_count": null,
   "metadata": {},
   "outputs": [],
   "source": [
    "sample = pd.read_csv('data/sample_submission.csv')\n",
    "sample['category'] = data['mapping'].values\n",
    "sample"
   ]
  },
  {
   "cell_type": "code",
   "execution_count": null,
   "metadata": {},
   "outputs": [],
   "source": [
    "sample.to_csv('submit_first.csv', index = False)"
   ]
  },
  {
   "cell_type": "markdown",
   "metadata": {},
   "source": [
    "# sentence-transformers/all-mpnet-base-v2"
   ]
  },
  {
   "cell_type": "code",
   "execution_count": 24,
   "metadata": {},
   "outputs": [],
   "source": [
    "import torch\n",
    "from transformers import AutoTokenizer, AutoModel\n",
    "from sentence_transformers import SentenceTransformer\n",
    "from sklearn.cluster import KMeans\n",
    "\n",
    "def call_model(df, model_name):\n",
    "    \n",
    "    device = torch.device('cuda' if torch.cuda.is_available() else 'cpu')\n",
    "    model = SentenceTransformer(model_name).to(device)\n",
    "    \n",
    "    bert_embeddings = model.encode(df['text'].tolist())\n",
    "    sentence_embeddings = pd.DataFrame(bert_embeddings)\n",
    "    kmeans = KMeans(n_clusters=6, random_state=42)\n",
    "    df['kmeans_cluster'] = kmeans.fit_predict(sentence_embeddings)\n",
    "    return df"
   ]
  },
  {
   "cell_type": "code",
   "execution_count": 25,
   "metadata": {},
   "outputs": [
    {
     "name": "stderr",
     "output_type": "stream",
     "text": [
      "c:\\Users\\이동현\\AppData\\Local\\Programs\\Python\\Python311\\Lib\\site-packages\\sklearn\\cluster\\_kmeans.py:1412: FutureWarning: The default value of `n_init` will change from 10 to 'auto' in 1.4. Set the value of `n_init` explicitly to suppress the warning\n",
      "  super()._check_params_vs_input(X, default_n_init=10)\n"
     ]
    },
    {
     "name": "stdout",
     "output_type": "stream",
     "text": [
      "           id                                              title  \\\n",
      "0  NEWS_00000            Spanish coach facing action in race row   \n",
      "1  NEWS_00001                  Bruce Lee statue for divided city   \n",
      "2  NEWS_00002  Only Lovers Left Alive's Tilda Swinton Talks A...   \n",
      "3  NEWS_00003              Macromedia contributes to eBay Stores   \n",
      "4  NEWS_00004  Qualcomm plans to phone it in on cellular repairs   \n",
      "\n",
      "                                            contents  \\\n",
      "0  MADRID (AFP) - Spanish national team coach Lui...   \n",
      "1  In Bosnia, where one man #39;s hero is often a...   \n",
      "2  Yasmine Hamdan performs 'Hal' which she also s...   \n",
      "3  Macromedia has announced a special version of ...   \n",
      "4  Over-the-air fixes for cell phones comes to Qu...   \n",
      "\n",
      "                                                text  kmeans_cluster  \n",
      "0  spanish coach facing action race rowmadrid afp...               0  \n",
      "1  bruce lee statue divided cityin bosnia , one m...               3  \n",
      "2  lovers left alives tilda swinton talks almost ...               3  \n",
      "3  macromedia contributes ebay storesmacromedia a...               5  \n",
      "4  qualcomm plans phone cellular repairsovertheai...               5  \n"
     ]
    }
   ],
   "source": [
    "all_data = call_model(data, \"sentence-transformers/all-mpnet-base-v2\")\n",
    "print(all_data.head())"
   ]
  },
  {
   "cell_type": "code",
   "execution_count": 26,
   "metadata": {},
   "outputs": [],
   "source": [
    "def check_category(data, val, count):\n",
    "    return print(data[data['kmeans_cluster']==val]['text'].head(count))"
   ]
  },
  {
   "cell_type": "code",
   "execution_count": 27,
   "metadata": {},
   "outputs": [
    {
     "name": "stdout",
     "output_type": "stream",
     "text": [
      "0     spanish coach facing action race rowmadrid afp...\n",
      "6     time talk baseballits time talk serious risks ...\n",
      "13    game day preview game time 600 pmcharlotte , n...\n",
      "16    fischers fiancee marriage plans genuine apap f...\n",
      "21    blake leeper wants first american paralympian ...\n",
      "Name: text, dtype: object\n"
     ]
    }
   ],
   "source": [
    "check_category(all_data, 0, 5) # sports"
   ]
  },
  {
   "cell_type": "code",
   "execution_count": 28,
   "metadata": {},
   "outputs": [
    {
     "name": "stdout",
     "output_type": "stream",
     "text": [
      "8     obama marks anniversary 911 attacks moment sil...\n",
      "9     republican congressman says trump apologize ob...\n",
      "11    kerry rolls taxcut plan middle classafter two ...\n",
      "12    read live updates south carolina democratic pr...\n",
      "14    obama administration helps wall street crimina...\n",
      "Name: text, dtype: object\n"
     ]
    }
   ],
   "source": [
    "check_category(all_data, 1, 5) # politics"
   ]
  },
  {
   "cell_type": "code",
   "execution_count": 29,
   "metadata": {},
   "outputs": [
    {
     "name": "stdout",
     "output_type": "stream",
     "text": [
      "7     bump stock maker resumes sales one month las v...\n",
      "19    congress spikes handout private equity authors...\n",
      "20    deeres color greenwith big tractors , big sale...\n",
      "27    kmartsears merger price , qualityaverage custo...\n",
      "37    deep impact space probe aims slam comet reuter...\n",
      "Name: text, dtype: object\n"
     ]
    }
   ],
   "source": [
    "check_category(all_data, 2, 5) # Business"
   ]
  },
  {
   "cell_type": "code",
   "execution_count": 30,
   "metadata": {},
   "outputs": [
    {
     "name": "stdout",
     "output_type": "stream",
     "text": [
      "1     bruce lee statue divided cityin bosnia , one m...\n",
      "2     lovers left alives tilda swinton talks almost ...\n",
      "10    harry argybargyprince charles asked scotland y...\n",
      "25                                top short_description\n",
      "28    cate blanchett set star lucille ball new biopi...\n",
      "Name: text, dtype: object\n"
     ]
    }
   ],
   "source": [
    "check_category(all_data, 3, 5)  # entertain"
   ]
  },
  {
   "cell_type": "code",
   "execution_count": 31,
   "metadata": {},
   "outputs": [
    {
     "name": "stdout",
     "output_type": "stream",
     "text": [
      "29    israel kills 3 palestinians big gaza incursion...\n",
      "34    folly sole superpower writ small authorsthink ...\n",
      "51    oil falls 49 nigeria ceasefirelondon reuters o...\n",
      "56    sadr aide denies entering iraqi police najaf s...\n",
      "57    former nazi guard loses canadian court ruling ...\n",
      "Name: text, dtype: object\n"
     ]
    }
   ],
   "source": [
    "check_category(all_data, 4, 5) # world"
   ]
  },
  {
   "cell_type": "code",
   "execution_count": 32,
   "metadata": {},
   "outputs": [
    {
     "name": "stdout",
     "output_type": "stream",
     "text": [
      "3     macromedia contributes ebay storesmacromedia a...\n",
      "4     qualcomm plans phone cellular repairsovertheai...\n",
      "5     thomson back bluray hddvdcompany , one core ba...\n",
      "23    ftc files first lawsuit spyware concernsthe fe...\n",
      "31    sony psp draws crowds lines first day reutersr...\n",
      "Name: text, dtype: object\n"
     ]
    }
   ],
   "source": [
    "check_category(all_data, 5, 5) # tech"
   ]
  },
  {
   "cell_type": "code",
   "execution_count": 33,
   "metadata": {},
   "outputs": [],
   "source": [
    "mapping_dict = {\n",
    "    0: 3,\n",
    "    1: 2,\n",
    "    2: 0,\n",
    "    3: 1,\n",
    "    4: 5,\n",
    "    5: 4\n",
    "}\n",
    "\n",
    "all_data['mapping'] = all_data['kmeans_cluster'].apply(lambda x : mapping_dict[x])"
   ]
  },
  {
   "cell_type": "code",
   "execution_count": 34,
   "metadata": {},
   "outputs": [
    {
     "data": {
      "text/html": [
       "<div>\n",
       "<style scoped>\n",
       "    .dataframe tbody tr th:only-of-type {\n",
       "        vertical-align: middle;\n",
       "    }\n",
       "\n",
       "    .dataframe tbody tr th {\n",
       "        vertical-align: top;\n",
       "    }\n",
       "\n",
       "    .dataframe thead th {\n",
       "        text-align: right;\n",
       "    }\n",
       "</style>\n",
       "<table border=\"1\" class=\"dataframe\">\n",
       "  <thead>\n",
       "    <tr style=\"text-align: right;\">\n",
       "      <th></th>\n",
       "      <th>id</th>\n",
       "      <th>title</th>\n",
       "      <th>contents</th>\n",
       "      <th>text</th>\n",
       "      <th>kmeans_cluster</th>\n",
       "      <th>mapping</th>\n",
       "    </tr>\n",
       "  </thead>\n",
       "  <tbody>\n",
       "    <tr>\n",
       "      <th>0</th>\n",
       "      <td>NEWS_00000</td>\n",
       "      <td>Spanish coach facing action in race row</td>\n",
       "      <td>MADRID (AFP) - Spanish national team coach Lui...</td>\n",
       "      <td>spanish coach facing action race rowmadrid afp...</td>\n",
       "      <td>0</td>\n",
       "      <td>3</td>\n",
       "    </tr>\n",
       "    <tr>\n",
       "      <th>1</th>\n",
       "      <td>NEWS_00001</td>\n",
       "      <td>Bruce Lee statue for divided city</td>\n",
       "      <td>In Bosnia, where one man #39;s hero is often a...</td>\n",
       "      <td>bruce lee statue divided cityin bosnia , one m...</td>\n",
       "      <td>3</td>\n",
       "      <td>1</td>\n",
       "    </tr>\n",
       "    <tr>\n",
       "      <th>2</th>\n",
       "      <td>NEWS_00002</td>\n",
       "      <td>Only Lovers Left Alive's Tilda Swinton Talks A...</td>\n",
       "      <td>Yasmine Hamdan performs 'Hal' which she also s...</td>\n",
       "      <td>lovers left alives tilda swinton talks almost ...</td>\n",
       "      <td>3</td>\n",
       "      <td>1</td>\n",
       "    </tr>\n",
       "    <tr>\n",
       "      <th>3</th>\n",
       "      <td>NEWS_00003</td>\n",
       "      <td>Macromedia contributes to eBay Stores</td>\n",
       "      <td>Macromedia has announced a special version of ...</td>\n",
       "      <td>macromedia contributes ebay storesmacromedia a...</td>\n",
       "      <td>5</td>\n",
       "      <td>4</td>\n",
       "    </tr>\n",
       "    <tr>\n",
       "      <th>4</th>\n",
       "      <td>NEWS_00004</td>\n",
       "      <td>Qualcomm plans to phone it in on cellular repairs</td>\n",
       "      <td>Over-the-air fixes for cell phones comes to Qu...</td>\n",
       "      <td>qualcomm plans phone cellular repairsovertheai...</td>\n",
       "      <td>5</td>\n",
       "      <td>4</td>\n",
       "    </tr>\n",
       "  </tbody>\n",
       "</table>\n",
       "</div>"
      ],
      "text/plain": [
       "           id                                              title  \\\n",
       "0  NEWS_00000            Spanish coach facing action in race row   \n",
       "1  NEWS_00001                  Bruce Lee statue for divided city   \n",
       "2  NEWS_00002  Only Lovers Left Alive's Tilda Swinton Talks A...   \n",
       "3  NEWS_00003              Macromedia contributes to eBay Stores   \n",
       "4  NEWS_00004  Qualcomm plans to phone it in on cellular repairs   \n",
       "\n",
       "                                            contents  \\\n",
       "0  MADRID (AFP) - Spanish national team coach Lui...   \n",
       "1  In Bosnia, where one man #39;s hero is often a...   \n",
       "2  Yasmine Hamdan performs 'Hal' which she also s...   \n",
       "3  Macromedia has announced a special version of ...   \n",
       "4  Over-the-air fixes for cell phones comes to Qu...   \n",
       "\n",
       "                                                text  kmeans_cluster  mapping  \n",
       "0  spanish coach facing action race rowmadrid afp...               0        3  \n",
       "1  bruce lee statue divided cityin bosnia , one m...               3        1  \n",
       "2  lovers left alives tilda swinton talks almost ...               3        1  \n",
       "3  macromedia contributes ebay storesmacromedia a...               5        4  \n",
       "4  qualcomm plans phone cellular repairsovertheai...               5        4  "
      ]
     },
     "execution_count": 34,
     "metadata": {},
     "output_type": "execute_result"
    }
   ],
   "source": [
    "all_data.head(5)"
   ]
  },
  {
   "cell_type": "code",
   "execution_count": 35,
   "metadata": {},
   "outputs": [
    {
     "data": {
      "text/html": [
       "<div>\n",
       "<style scoped>\n",
       "    .dataframe tbody tr th:only-of-type {\n",
       "        vertical-align: middle;\n",
       "    }\n",
       "\n",
       "    .dataframe tbody tr th {\n",
       "        vertical-align: top;\n",
       "    }\n",
       "\n",
       "    .dataframe thead th {\n",
       "        text-align: right;\n",
       "    }\n",
       "</style>\n",
       "<table border=\"1\" class=\"dataframe\">\n",
       "  <thead>\n",
       "    <tr style=\"text-align: right;\">\n",
       "      <th></th>\n",
       "      <th>id</th>\n",
       "      <th>category</th>\n",
       "    </tr>\n",
       "  </thead>\n",
       "  <tbody>\n",
       "    <tr>\n",
       "      <th>0</th>\n",
       "      <td>NEWS_00000</td>\n",
       "      <td>3</td>\n",
       "    </tr>\n",
       "    <tr>\n",
       "      <th>1</th>\n",
       "      <td>NEWS_00001</td>\n",
       "      <td>1</td>\n",
       "    </tr>\n",
       "    <tr>\n",
       "      <th>2</th>\n",
       "      <td>NEWS_00002</td>\n",
       "      <td>1</td>\n",
       "    </tr>\n",
       "    <tr>\n",
       "      <th>3</th>\n",
       "      <td>NEWS_00003</td>\n",
       "      <td>4</td>\n",
       "    </tr>\n",
       "    <tr>\n",
       "      <th>4</th>\n",
       "      <td>NEWS_00004</td>\n",
       "      <td>4</td>\n",
       "    </tr>\n",
       "  </tbody>\n",
       "</table>\n",
       "</div>"
      ],
      "text/plain": [
       "           id  category\n",
       "0  NEWS_00000         3\n",
       "1  NEWS_00001         1\n",
       "2  NEWS_00002         1\n",
       "3  NEWS_00003         4\n",
       "4  NEWS_00004         4"
      ]
     },
     "execution_count": 35,
     "metadata": {},
     "output_type": "execute_result"
    }
   ],
   "source": [
    "sample = pd.read_csv('data/sample_submission.csv')\n",
    "sample['category'] = all_data['mapping'].values\n",
    "sample.head()"
   ]
  },
  {
   "cell_type": "code",
   "execution_count": 36,
   "metadata": {},
   "outputs": [],
   "source": [
    "sample.to_csv('sumbit_third.csv', index = False)"
   ]
  }
 ],
 "metadata": {
  "kernelspec": {
   "display_name": "Python 3",
   "language": "python",
   "name": "python3"
  },
  "language_info": {
   "codemirror_mode": {
    "name": "ipython",
    "version": 3
   },
   "file_extension": ".py",
   "mimetype": "text/x-python",
   "name": "python",
   "nbconvert_exporter": "python",
   "pygments_lexer": "ipython3",
   "version": "3.11.4"
  },
  "orig_nbformat": 4
 },
 "nbformat": 4,
 "nbformat_minor": 2
}
