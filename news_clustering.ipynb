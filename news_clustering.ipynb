{
 "cells": [
  {
   "cell_type": "markdown",
   "metadata": {},
   "source": [
    "# 데이터 로드"
   ]
  },
  {
   "cell_type": "code",
   "execution_count": 15,
   "metadata": {},
   "outputs": [
    {
     "data": {
      "text/html": [
       "<div>\n",
       "<style scoped>\n",
       "    .dataframe tbody tr th:only-of-type {\n",
       "        vertical-align: middle;\n",
       "    }\n",
       "\n",
       "    .dataframe tbody tr th {\n",
       "        vertical-align: top;\n",
       "    }\n",
       "\n",
       "    .dataframe thead th {\n",
       "        text-align: right;\n",
       "    }\n",
       "</style>\n",
       "<table border=\"1\" class=\"dataframe\">\n",
       "  <thead>\n",
       "    <tr style=\"text-align: right;\">\n",
       "      <th></th>\n",
       "      <th>id</th>\n",
       "      <th>title</th>\n",
       "      <th>contents</th>\n",
       "    </tr>\n",
       "  </thead>\n",
       "  <tbody>\n",
       "    <tr>\n",
       "      <th>0</th>\n",
       "      <td>NEWS_00000</td>\n",
       "      <td>Spanish coach facing action in race row</td>\n",
       "      <td>MADRID (AFP) - Spanish national team coach Lui...</td>\n",
       "    </tr>\n",
       "    <tr>\n",
       "      <th>1</th>\n",
       "      <td>NEWS_00001</td>\n",
       "      <td>Bruce Lee statue for divided city</td>\n",
       "      <td>In Bosnia, where one man #39;s hero is often a...</td>\n",
       "    </tr>\n",
       "    <tr>\n",
       "      <th>2</th>\n",
       "      <td>NEWS_00002</td>\n",
       "      <td>Only Lovers Left Alive's Tilda Swinton Talks A...</td>\n",
       "      <td>Yasmine Hamdan performs 'Hal' which she also s...</td>\n",
       "    </tr>\n",
       "    <tr>\n",
       "      <th>3</th>\n",
       "      <td>NEWS_00003</td>\n",
       "      <td>Macromedia contributes to eBay Stores</td>\n",
       "      <td>Macromedia has announced a special version of ...</td>\n",
       "    </tr>\n",
       "    <tr>\n",
       "      <th>4</th>\n",
       "      <td>NEWS_00004</td>\n",
       "      <td>Qualcomm plans to phone it in on cellular repairs</td>\n",
       "      <td>Over-the-air fixes for cell phones comes to Qu...</td>\n",
       "    </tr>\n",
       "    <tr>\n",
       "      <th>...</th>\n",
       "      <td>...</td>\n",
       "      <td>...</td>\n",
       "      <td>...</td>\n",
       "    </tr>\n",
       "    <tr>\n",
       "      <th>59995</th>\n",
       "      <td>NEWS_59995</td>\n",
       "      <td>Dolphins Break Through, Rip Rams For First Win</td>\n",
       "      <td>But that #39;s OK. Because after a 31-14 rout ...</td>\n",
       "    </tr>\n",
       "    <tr>\n",
       "      <th>59996</th>\n",
       "      <td>NEWS_59996</td>\n",
       "      <td>After Steep Drop, Price of Oil Rises</td>\n",
       "      <td>The freefall in oil prices ended Monday on a s...</td>\n",
       "    </tr>\n",
       "    <tr>\n",
       "      <th>59997</th>\n",
       "      <td>NEWS_59997</td>\n",
       "      <td>Pro football: Culpepper puts on a show</td>\n",
       "      <td>To say Daunte Culpepper was a little frustrate...</td>\n",
       "    </tr>\n",
       "    <tr>\n",
       "      <th>59998</th>\n",
       "      <td>NEWS_59998</td>\n",
       "      <td>Albertsons on the Rebound</td>\n",
       "      <td>The No. 2 grocer reports double-digit gains in...</td>\n",
       "    </tr>\n",
       "    <tr>\n",
       "      <th>59999</th>\n",
       "      <td>NEWS_59999</td>\n",
       "      <td>Cassini Craft Spies Saturn Moon Dione (AP)</td>\n",
       "      <td>AP - The Cassini spacecraft's close flyby of S...</td>\n",
       "    </tr>\n",
       "  </tbody>\n",
       "</table>\n",
       "<p>60000 rows × 3 columns</p>\n",
       "</div>"
      ],
      "text/plain": [
       "               id                                              title  \\\n",
       "0      NEWS_00000            Spanish coach facing action in race row   \n",
       "1      NEWS_00001                  Bruce Lee statue for divided city   \n",
       "2      NEWS_00002  Only Lovers Left Alive's Tilda Swinton Talks A...   \n",
       "3      NEWS_00003              Macromedia contributes to eBay Stores   \n",
       "4      NEWS_00004  Qualcomm plans to phone it in on cellular repairs   \n",
       "...           ...                                                ...   \n",
       "59995  NEWS_59995     Dolphins Break Through, Rip Rams For First Win   \n",
       "59996  NEWS_59996               After Steep Drop, Price of Oil Rises   \n",
       "59997  NEWS_59997             Pro football: Culpepper puts on a show   \n",
       "59998  NEWS_59998                          Albertsons on the Rebound   \n",
       "59999  NEWS_59999         Cassini Craft Spies Saturn Moon Dione (AP)   \n",
       "\n",
       "                                                contents  \n",
       "0      MADRID (AFP) - Spanish national team coach Lui...  \n",
       "1      In Bosnia, where one man #39;s hero is often a...  \n",
       "2      Yasmine Hamdan performs 'Hal' which she also s...  \n",
       "3      Macromedia has announced a special version of ...  \n",
       "4      Over-the-air fixes for cell phones comes to Qu...  \n",
       "...                                                  ...  \n",
       "59995  But that #39;s OK. Because after a 31-14 rout ...  \n",
       "59996  The freefall in oil prices ended Monday on a s...  \n",
       "59997  To say Daunte Culpepper was a little frustrate...  \n",
       "59998  The No. 2 grocer reports double-digit gains in...  \n",
       "59999  AP - The Cassini spacecraft's close flyby of S...  \n",
       "\n",
       "[60000 rows x 3 columns]"
      ]
     },
     "execution_count": 15,
     "metadata": {},
     "output_type": "execute_result"
    }
   ],
   "source": [
    "import pandas as pd\n",
    "import re\n",
    "import numpy as np\n",
    "\n",
    "data = pd.read_csv('data/news.csv')\n",
    "data"
   ]
  },
  {
   "cell_type": "code",
   "execution_count": 11,
   "metadata": {},
   "outputs": [
    {
     "data": {
      "text/html": [
       "<div>\n",
       "<style scoped>\n",
       "    .dataframe tbody tr th:only-of-type {\n",
       "        vertical-align: middle;\n",
       "    }\n",
       "\n",
       "    .dataframe tbody tr th {\n",
       "        vertical-align: top;\n",
       "    }\n",
       "\n",
       "    .dataframe thead th {\n",
       "        text-align: right;\n",
       "    }\n",
       "</style>\n",
       "<table border=\"1\" class=\"dataframe\">\n",
       "  <thead>\n",
       "    <tr style=\"text-align: right;\">\n",
       "      <th></th>\n",
       "      <th>id</th>\n",
       "      <th>title</th>\n",
       "      <th>contents</th>\n",
       "      <th>intersection</th>\n",
       "    </tr>\n",
       "  </thead>\n",
       "  <tbody>\n",
       "    <tr>\n",
       "      <th>0</th>\n",
       "      <td>NEWS_00000</td>\n",
       "      <td>Spanish coach facing action in race row</td>\n",
       "      <td>MADRID (AFP) - Spanish national team coach Lui...</td>\n",
       "      <td>coach Spanish</td>\n",
       "    </tr>\n",
       "    <tr>\n",
       "      <th>1</th>\n",
       "      <td>NEWS_00001</td>\n",
       "      <td>Bruce Lee statue for divided city</td>\n",
       "      <td>In Bosnia, where one man #39;s hero is often a...</td>\n",
       "      <td>Bruce</td>\n",
       "    </tr>\n",
       "    <tr>\n",
       "      <th>2</th>\n",
       "      <td>NEWS_00002</td>\n",
       "      <td>Only Lovers Left Alive's Tilda Swinton Talks A...</td>\n",
       "      <td>Yasmine Hamdan performs 'Hal' which she also s...</td>\n",
       "      <td>Yasmine and Hamdan 'Hal'</td>\n",
       "    </tr>\n",
       "    <tr>\n",
       "      <th>3</th>\n",
       "      <td>NEWS_00003</td>\n",
       "      <td>Macromedia contributes to eBay Stores</td>\n",
       "      <td>Macromedia has announced a special version of ...</td>\n",
       "      <td>to Macromedia eBay</td>\n",
       "    </tr>\n",
       "    <tr>\n",
       "      <th>4</th>\n",
       "      <td>NEWS_00004</td>\n",
       "      <td>Qualcomm plans to phone it in on cellular repairs</td>\n",
       "      <td>Over-the-air fixes for cell phones comes to Qu...</td>\n",
       "      <td>to</td>\n",
       "    </tr>\n",
       "    <tr>\n",
       "      <th>...</th>\n",
       "      <td>...</td>\n",
       "      <td>...</td>\n",
       "      <td>...</td>\n",
       "      <td>...</td>\n",
       "    </tr>\n",
       "    <tr>\n",
       "      <th>59995</th>\n",
       "      <td>NEWS_59995</td>\n",
       "      <td>Dolphins Break Through, Rip Rams For First Win</td>\n",
       "      <td>But that #39;s OK. Because after a 31-14 rout ...</td>\n",
       "      <td></td>\n",
       "    </tr>\n",
       "    <tr>\n",
       "      <th>59996</th>\n",
       "      <td>NEWS_59996</td>\n",
       "      <td>After Steep Drop, Price of Oil Rises</td>\n",
       "      <td>The freefall in oil prices ended Monday on a s...</td>\n",
       "      <td>of</td>\n",
       "    </tr>\n",
       "    <tr>\n",
       "      <th>59997</th>\n",
       "      <td>NEWS_59997</td>\n",
       "      <td>Pro football: Culpepper puts on a show</td>\n",
       "      <td>To say Daunte Culpepper was a little frustrate...</td>\n",
       "      <td>a Culpepper on</td>\n",
       "    </tr>\n",
       "    <tr>\n",
       "      <th>59998</th>\n",
       "      <td>NEWS_59998</td>\n",
       "      <td>Albertsons on the Rebound</td>\n",
       "      <td>The No. 2 grocer reports double-digit gains in...</td>\n",
       "      <td></td>\n",
       "    </tr>\n",
       "    <tr>\n",
       "      <th>59999</th>\n",
       "      <td>NEWS_59999</td>\n",
       "      <td>Cassini Craft Spies Saturn Moon Dione (AP)</td>\n",
       "      <td>AP - The Cassini spacecraft's close flyby of S...</td>\n",
       "      <td>Cassini</td>\n",
       "    </tr>\n",
       "  </tbody>\n",
       "</table>\n",
       "<p>60000 rows × 4 columns</p>\n",
       "</div>"
      ],
      "text/plain": [
       "               id                                              title  \\\n",
       "0      NEWS_00000            Spanish coach facing action in race row   \n",
       "1      NEWS_00001                  Bruce Lee statue for divided city   \n",
       "2      NEWS_00002  Only Lovers Left Alive's Tilda Swinton Talks A...   \n",
       "3      NEWS_00003              Macromedia contributes to eBay Stores   \n",
       "4      NEWS_00004  Qualcomm plans to phone it in on cellular repairs   \n",
       "...           ...                                                ...   \n",
       "59995  NEWS_59995     Dolphins Break Through, Rip Rams For First Win   \n",
       "59996  NEWS_59996               After Steep Drop, Price of Oil Rises   \n",
       "59997  NEWS_59997             Pro football: Culpepper puts on a show   \n",
       "59998  NEWS_59998                          Albertsons on the Rebound   \n",
       "59999  NEWS_59999         Cassini Craft Spies Saturn Moon Dione (AP)   \n",
       "\n",
       "                                                contents  \\\n",
       "0      MADRID (AFP) - Spanish national team coach Lui...   \n",
       "1      In Bosnia, where one man #39;s hero is often a...   \n",
       "2      Yasmine Hamdan performs 'Hal' which she also s...   \n",
       "3      Macromedia has announced a special version of ...   \n",
       "4      Over-the-air fixes for cell phones comes to Qu...   \n",
       "...                                                  ...   \n",
       "59995  But that #39;s OK. Because after a 31-14 rout ...   \n",
       "59996  The freefall in oil prices ended Monday on a s...   \n",
       "59997  To say Daunte Culpepper was a little frustrate...   \n",
       "59998  The No. 2 grocer reports double-digit gains in...   \n",
       "59999  AP - The Cassini spacecraft's close flyby of S...   \n",
       "\n",
       "                   intersection  \n",
       "0                 coach Spanish  \n",
       "1                         Bruce  \n",
       "2      Yasmine and Hamdan 'Hal'  \n",
       "3            to Macromedia eBay  \n",
       "4                            to  \n",
       "...                         ...  \n",
       "59995                            \n",
       "59996                        of  \n",
       "59997            a Culpepper on  \n",
       "59998                            \n",
       "59999                   Cassini  \n",
       "\n",
       "[60000 rows x 4 columns]"
      ]
     },
     "execution_count": 11,
     "metadata": {},
     "output_type": "execute_result"
    }
   ],
   "source": [
    "data['intersection'] = data.apply(lambda row:\" \".join(set(row['title'].split()).intersection(set(row['contents'].split()))), axis=1)\n",
    "data"
   ]
  },
  {
   "cell_type": "code",
   "execution_count": 7,
   "metadata": {},
   "outputs": [
    {
     "name": "stdout",
     "output_type": "stream",
     "text": [
      "   category           info\n",
      "0         0       Business\n",
      "1         1  Entertainment\n",
      "2         2       Politics\n",
      "3         3         Sports\n",
      "4         4           Tech\n",
      "5         5          World\n"
     ]
    }
   ],
   "source": [
    "category = {'category': [0,1,2,3,4,5], 'info':['Business','Entertainment','Politics','Sports','Tech','World']}\n",
    "category_data = pd.DataFrame(category)\n",
    "print(category_data)"
   ]
  },
  {
   "cell_type": "markdown",
   "metadata": {},
   "source": [
    "# 전처리"
   ]
  },
  {
   "cell_type": "code",
   "execution_count": 18,
   "metadata": {},
   "outputs": [
    {
     "data": {
      "text/html": [
       "<div>\n",
       "<style scoped>\n",
       "    .dataframe tbody tr th:only-of-type {\n",
       "        vertical-align: middle;\n",
       "    }\n",
       "\n",
       "    .dataframe tbody tr th {\n",
       "        vertical-align: top;\n",
       "    }\n",
       "\n",
       "    .dataframe thead th {\n",
       "        text-align: right;\n",
       "    }\n",
       "</style>\n",
       "<table border=\"1\" class=\"dataframe\">\n",
       "  <thead>\n",
       "    <tr style=\"text-align: right;\">\n",
       "      <th></th>\n",
       "      <th>id</th>\n",
       "      <th>title</th>\n",
       "      <th>contents</th>\n",
       "      <th>text</th>\n",
       "    </tr>\n",
       "  </thead>\n",
       "  <tbody>\n",
       "    <tr>\n",
       "      <th>0</th>\n",
       "      <td>NEWS_00000</td>\n",
       "      <td>Spanish coach facing action in race row</td>\n",
       "      <td>MADRID (AFP) - Spanish national team coach Lui...</td>\n",
       "      <td>Spanish coach facing action in race row:MADRID...</td>\n",
       "    </tr>\n",
       "    <tr>\n",
       "      <th>1</th>\n",
       "      <td>NEWS_00001</td>\n",
       "      <td>Bruce Lee statue for divided city</td>\n",
       "      <td>In Bosnia, where one man #39;s hero is often a...</td>\n",
       "      <td>Bruce Lee statue for divided city:In Bosnia, w...</td>\n",
       "    </tr>\n",
       "    <tr>\n",
       "      <th>2</th>\n",
       "      <td>NEWS_00002</td>\n",
       "      <td>Only Lovers Left Alive's Tilda Swinton Talks A...</td>\n",
       "      <td>Yasmine Hamdan performs 'Hal' which she also s...</td>\n",
       "      <td>Only Lovers Left Alive's Tilda Swinton Talks A...</td>\n",
       "    </tr>\n",
       "    <tr>\n",
       "      <th>3</th>\n",
       "      <td>NEWS_00003</td>\n",
       "      <td>Macromedia contributes to eBay Stores</td>\n",
       "      <td>Macromedia has announced a special version of ...</td>\n",
       "      <td>Macromedia contributes to eBay Stores:Macromed...</td>\n",
       "    </tr>\n",
       "    <tr>\n",
       "      <th>4</th>\n",
       "      <td>NEWS_00004</td>\n",
       "      <td>Qualcomm plans to phone it in on cellular repairs</td>\n",
       "      <td>Over-the-air fixes for cell phones comes to Qu...</td>\n",
       "      <td>Qualcomm plans to phone it in on cellular repa...</td>\n",
       "    </tr>\n",
       "  </tbody>\n",
       "</table>\n",
       "</div>"
      ],
      "text/plain": [
       "           id                                              title  \\\n",
       "0  NEWS_00000            Spanish coach facing action in race row   \n",
       "1  NEWS_00001                  Bruce Lee statue for divided city   \n",
       "2  NEWS_00002  Only Lovers Left Alive's Tilda Swinton Talks A...   \n",
       "3  NEWS_00003              Macromedia contributes to eBay Stores   \n",
       "4  NEWS_00004  Qualcomm plans to phone it in on cellular repairs   \n",
       "\n",
       "                                            contents  \\\n",
       "0  MADRID (AFP) - Spanish national team coach Lui...   \n",
       "1  In Bosnia, where one man #39;s hero is often a...   \n",
       "2  Yasmine Hamdan performs 'Hal' which she also s...   \n",
       "3  Macromedia has announced a special version of ...   \n",
       "4  Over-the-air fixes for cell phones comes to Qu...   \n",
       "\n",
       "                                                text  \n",
       "0  Spanish coach facing action in race row:MADRID...  \n",
       "1  Bruce Lee statue for divided city:In Bosnia, w...  \n",
       "2  Only Lovers Left Alive's Tilda Swinton Talks A...  \n",
       "3  Macromedia contributes to eBay Stores:Macromed...  \n",
       "4  Qualcomm plans to phone it in on cellular repa...  "
      ]
     },
     "execution_count": 18,
     "metadata": {},
     "output_type": "execute_result"
    }
   ],
   "source": [
    "data['text'] = data['title'] + ':' + data['contents']\n",
    "data.head()"
   ]
  },
  {
   "cell_type": "code",
   "execution_count": 29,
   "metadata": {},
   "outputs": [
    {
     "name": "stderr",
     "output_type": "stream",
     "text": [
      "[nltk_data] Downloading package punkt to\n",
      "[nltk_data]     C:\\Users\\이동현\\AppData\\Roaming\\nltk_data...\n",
      "[nltk_data]   Unzipping tokenizers\\punkt.zip.\n",
      "[nltk_data] Downloading package stopwords to\n",
      "[nltk_data]     C:\\Users\\이동현\\AppData\\Roaming\\nltk_data...\n",
      "[nltk_data]   Package stopwords is already up-to-date!\n"
     ]
    },
    {
     "data": {
      "text/html": [
       "<div>\n",
       "<style scoped>\n",
       "    .dataframe tbody tr th:only-of-type {\n",
       "        vertical-align: middle;\n",
       "    }\n",
       "\n",
       "    .dataframe tbody tr th {\n",
       "        vertical-align: top;\n",
       "    }\n",
       "\n",
       "    .dataframe thead th {\n",
       "        text-align: right;\n",
       "    }\n",
       "</style>\n",
       "<table border=\"1\" class=\"dataframe\">\n",
       "  <thead>\n",
       "    <tr style=\"text-align: right;\">\n",
       "      <th></th>\n",
       "      <th>id</th>\n",
       "      <th>title</th>\n",
       "      <th>contents</th>\n",
       "      <th>text</th>\n",
       "    </tr>\n",
       "  </thead>\n",
       "  <tbody>\n",
       "    <tr>\n",
       "      <th>0</th>\n",
       "      <td>NEWS_00000</td>\n",
       "      <td>Spanish coach facing action in race row</td>\n",
       "      <td>MADRID (AFP) - Spanish national team coach Lui...</td>\n",
       "      <td>spanish coach facing action race rowmadrid afp...</td>\n",
       "    </tr>\n",
       "    <tr>\n",
       "      <th>1</th>\n",
       "      <td>NEWS_00001</td>\n",
       "      <td>Bruce Lee statue for divided city</td>\n",
       "      <td>In Bosnia, where one man #39;s hero is often a...</td>\n",
       "      <td>bruce lee statue divided cityin bosnia , one m...</td>\n",
       "    </tr>\n",
       "    <tr>\n",
       "      <th>2</th>\n",
       "      <td>NEWS_00002</td>\n",
       "      <td>Only Lovers Left Alive's Tilda Swinton Talks A...</td>\n",
       "      <td>Yasmine Hamdan performs 'Hal' which she also s...</td>\n",
       "      <td>lovers left alives tilda swinton talks almost ...</td>\n",
       "    </tr>\n",
       "    <tr>\n",
       "      <th>3</th>\n",
       "      <td>NEWS_00003</td>\n",
       "      <td>Macromedia contributes to eBay Stores</td>\n",
       "      <td>Macromedia has announced a special version of ...</td>\n",
       "      <td>macromedia contributes ebay storesmacromedia a...</td>\n",
       "    </tr>\n",
       "    <tr>\n",
       "      <th>4</th>\n",
       "      <td>NEWS_00004</td>\n",
       "      <td>Qualcomm plans to phone it in on cellular repairs</td>\n",
       "      <td>Over-the-air fixes for cell phones comes to Qu...</td>\n",
       "      <td>qualcomm plans phone cellular repairsovertheai...</td>\n",
       "    </tr>\n",
       "  </tbody>\n",
       "</table>\n",
       "</div>"
      ],
      "text/plain": [
       "           id                                              title  \\\n",
       "0  NEWS_00000            Spanish coach facing action in race row   \n",
       "1  NEWS_00001                  Bruce Lee statue for divided city   \n",
       "2  NEWS_00002  Only Lovers Left Alive's Tilda Swinton Talks A...   \n",
       "3  NEWS_00003              Macromedia contributes to eBay Stores   \n",
       "4  NEWS_00004  Qualcomm plans to phone it in on cellular repairs   \n",
       "\n",
       "                                            contents  \\\n",
       "0  MADRID (AFP) - Spanish national team coach Lui...   \n",
       "1  In Bosnia, where one man #39;s hero is often a...   \n",
       "2  Yasmine Hamdan performs 'Hal' which she also s...   \n",
       "3  Macromedia has announced a special version of ...   \n",
       "4  Over-the-air fixes for cell phones comes to Qu...   \n",
       "\n",
       "                                                text  \n",
       "0  spanish coach facing action race rowmadrid afp...  \n",
       "1  bruce lee statue divided cityin bosnia , one m...  \n",
       "2  lovers left alives tilda swinton talks almost ...  \n",
       "3  macromedia contributes ebay storesmacromedia a...  \n",
       "4  qualcomm plans phone cellular repairsovertheai...  "
      ]
     },
     "execution_count": 29,
     "metadata": {},
     "output_type": "execute_result"
    }
   ],
   "source": [
    "import re\n",
    "import nltk\n",
    "from nltk.corpus import stopwords\n",
    "from nltk.tokenize import word_tokenize\n",
    "\n",
    "nltk.download('punkt')\n",
    "nltk.download('stopwords')\n",
    "\n",
    "def preprocess_text(text):\n",
    "    \n",
    "    # text 소문자화\n",
    "    text = text.lower()\n",
    "    \n",
    "    # URL 제거\n",
    "    text = re.sub(r'http\\S+|www\\S+|https\\S+', '', text, flags=re.MULTILINE)\n",
    "    \n",
    "    # 해시태그 제거\n",
    "    text = re.sub(r'#\\w+', '', text)\n",
    "    \n",
    "    # 멘션 제거\n",
    "    text = re.sub(r'@\\w+', '', text)\n",
    "    \n",
    "    # 이모지 제거\n",
    "    text = text.encode('ascii', 'ignore').decode('ascii')\n",
    "    \n",
    "    # 날짜 및 기자 이름 등 불필요한 정보가 포함된 문자열 패턴 삭제\n",
    "    text = re.sub(r'\\b(January|February|March|April|May|June|July|August|September|October|November|December)\\b \\d{1,2}, \\d{4}', '', text)\n",
    "    \n",
    "    # 숫자와 일부 특수문자('.', ',', '!')만 남기고 모두 삭제 \n",
    "    # (문장 구조 정보 유지를 위해 일부 구두점은 유지하되, 그 외 불필요한 문자는 삭제)\n",
    "    text = re.sub(r'[^\\w\\s.,!]', '',  text)\n",
    "\n",
    "    # Stopwords removal - NLTK library 사용 \n",
    "    stop_words = set(stopwords.words('english'))\n",
    "    word_tokens = word_tokenize(text) \n",
    "    filtered_text = [word for word in word_tokens if not word in stop_words]\n",
    "\n",
    "    return ' '.join(filtered_text).lower()\n",
    "\n",
    "data['text'] = data['text'].apply(preprocess_text)\n",
    "data.head()"
   ]
  },
  {
   "cell_type": "markdown",
   "metadata": {},
   "source": [
    "# Baseline"
   ]
  },
  {
   "cell_type": "code",
   "execution_count": 38,
   "metadata": {},
   "outputs": [],
   "source": [
    "import random\n",
    "from sentence_transformers import SentenceTransformer\n",
    "from sklearn.cluster import KMeans\n",
    "\n",
    "# Sentence BERT 모델 로드\n",
    "model = SentenceTransformer('sentence-transformers/all-MiniLM-L6-v2')\n",
    "\n",
    "# 텍스트 feature 추출\n",
    "sentence_embeddings = model.encode(data['text'].tolist())\n",
    "\n",
    "# 추출한 feature를 데이터프레임에 저장\n",
    "df_embeddings = pd.DataFrame(sentence_embeddings)"
   ]
  },
  {
   "cell_type": "code",
   "execution_count": 40,
   "metadata": {},
   "outputs": [
    {
     "name": "stderr",
     "output_type": "stream",
     "text": [
      "c:\\Users\\이동현\\AppData\\Local\\Programs\\Python\\Python311\\Lib\\site-packages\\sklearn\\cluster\\_kmeans.py:1412: FutureWarning: The default value of `n_init` will change from 10 to 'auto' in 1.4. Set the value of `n_init` explicitly to suppress the warning\n",
      "  super()._check_params_vs_input(X, default_n_init=10)\n"
     ]
    },
    {
     "data": {
      "text/html": [
       "<div>\n",
       "<style scoped>\n",
       "    .dataframe tbody tr th:only-of-type {\n",
       "        vertical-align: middle;\n",
       "    }\n",
       "\n",
       "    .dataframe tbody tr th {\n",
       "        vertical-align: top;\n",
       "    }\n",
       "\n",
       "    .dataframe thead th {\n",
       "        text-align: right;\n",
       "    }\n",
       "</style>\n",
       "<table border=\"1\" class=\"dataframe\">\n",
       "  <thead>\n",
       "    <tr style=\"text-align: right;\">\n",
       "      <th></th>\n",
       "      <th>id</th>\n",
       "      <th>title</th>\n",
       "      <th>contents</th>\n",
       "      <th>text</th>\n",
       "      <th>kmeans_cluster</th>\n",
       "    </tr>\n",
       "  </thead>\n",
       "  <tbody>\n",
       "    <tr>\n",
       "      <th>0</th>\n",
       "      <td>NEWS_00000</td>\n",
       "      <td>Spanish coach facing action in race row</td>\n",
       "      <td>MADRID (AFP) - Spanish national team coach Lui...</td>\n",
       "      <td>spanish coach facing action race rowmadrid afp...</td>\n",
       "      <td>1</td>\n",
       "    </tr>\n",
       "    <tr>\n",
       "      <th>1</th>\n",
       "      <td>NEWS_00001</td>\n",
       "      <td>Bruce Lee statue for divided city</td>\n",
       "      <td>In Bosnia, where one man #39;s hero is often a...</td>\n",
       "      <td>bruce lee statue divided cityin bosnia , one m...</td>\n",
       "      <td>0</td>\n",
       "    </tr>\n",
       "    <tr>\n",
       "      <th>2</th>\n",
       "      <td>NEWS_00002</td>\n",
       "      <td>Only Lovers Left Alive's Tilda Swinton Talks A...</td>\n",
       "      <td>Yasmine Hamdan performs 'Hal' which she also s...</td>\n",
       "      <td>lovers left alives tilda swinton talks almost ...</td>\n",
       "      <td>3</td>\n",
       "    </tr>\n",
       "    <tr>\n",
       "      <th>3</th>\n",
       "      <td>NEWS_00003</td>\n",
       "      <td>Macromedia contributes to eBay Stores</td>\n",
       "      <td>Macromedia has announced a special version of ...</td>\n",
       "      <td>macromedia contributes ebay storesmacromedia a...</td>\n",
       "      <td>2</td>\n",
       "    </tr>\n",
       "    <tr>\n",
       "      <th>4</th>\n",
       "      <td>NEWS_00004</td>\n",
       "      <td>Qualcomm plans to phone it in on cellular repairs</td>\n",
       "      <td>Over-the-air fixes for cell phones comes to Qu...</td>\n",
       "      <td>qualcomm plans phone cellular repairsovertheai...</td>\n",
       "      <td>2</td>\n",
       "    </tr>\n",
       "  </tbody>\n",
       "</table>\n",
       "</div>"
      ],
      "text/plain": [
       "           id                                              title  \\\n",
       "0  NEWS_00000            Spanish coach facing action in race row   \n",
       "1  NEWS_00001                  Bruce Lee statue for divided city   \n",
       "2  NEWS_00002  Only Lovers Left Alive's Tilda Swinton Talks A...   \n",
       "3  NEWS_00003              Macromedia contributes to eBay Stores   \n",
       "4  NEWS_00004  Qualcomm plans to phone it in on cellular repairs   \n",
       "\n",
       "                                            contents  \\\n",
       "0  MADRID (AFP) - Spanish national team coach Lui...   \n",
       "1  In Bosnia, where one man #39;s hero is often a...   \n",
       "2  Yasmine Hamdan performs 'Hal' which she also s...   \n",
       "3  Macromedia has announced a special version of ...   \n",
       "4  Over-the-air fixes for cell phones comes to Qu...   \n",
       "\n",
       "                                                text  kmeans_cluster  \n",
       "0  spanish coach facing action race rowmadrid afp...               1  \n",
       "1  bruce lee statue divided cityin bosnia , one m...               0  \n",
       "2  lovers left alives tilda swinton talks almost ...               3  \n",
       "3  macromedia contributes ebay storesmacromedia a...               2  \n",
       "4  qualcomm plans phone cellular repairsovertheai...               2  "
      ]
     },
     "execution_count": 40,
     "metadata": {},
     "output_type": "execute_result"
    }
   ],
   "source": [
    "# Sentence BERT 임베딩을 사용하여 군집화 수행\n",
    "kmeans = KMeans(n_clusters=6, random_state=42)\n",
    "\n",
    "data['kmeans_cluster'] = kmeans.fit_predict(sentence_embeddings)\n",
    "data.head()"
   ]
  },
  {
   "cell_type": "code",
   "execution_count": 41,
   "metadata": {},
   "outputs": [
    {
     "data": {
      "text/html": [
       "<div>\n",
       "<style scoped>\n",
       "    .dataframe tbody tr th:only-of-type {\n",
       "        vertical-align: middle;\n",
       "    }\n",
       "\n",
       "    .dataframe tbody tr th {\n",
       "        vertical-align: top;\n",
       "    }\n",
       "\n",
       "    .dataframe thead th {\n",
       "        text-align: right;\n",
       "    }\n",
       "</style>\n",
       "<table border=\"1\" class=\"dataframe\">\n",
       "  <thead>\n",
       "    <tr style=\"text-align: right;\">\n",
       "      <th></th>\n",
       "      <th>category</th>\n",
       "      <th>info</th>\n",
       "    </tr>\n",
       "  </thead>\n",
       "  <tbody>\n",
       "    <tr>\n",
       "      <th>0</th>\n",
       "      <td>0</td>\n",
       "      <td>Business</td>\n",
       "    </tr>\n",
       "    <tr>\n",
       "      <th>1</th>\n",
       "      <td>1</td>\n",
       "      <td>Entertainment</td>\n",
       "    </tr>\n",
       "    <tr>\n",
       "      <th>2</th>\n",
       "      <td>2</td>\n",
       "      <td>Politics</td>\n",
       "    </tr>\n",
       "    <tr>\n",
       "      <th>3</th>\n",
       "      <td>3</td>\n",
       "      <td>Sports</td>\n",
       "    </tr>\n",
       "    <tr>\n",
       "      <th>4</th>\n",
       "      <td>4</td>\n",
       "      <td>Tech</td>\n",
       "    </tr>\n",
       "    <tr>\n",
       "      <th>5</th>\n",
       "      <td>5</td>\n",
       "      <td>World</td>\n",
       "    </tr>\n",
       "  </tbody>\n",
       "</table>\n",
       "</div>"
      ],
      "text/plain": [
       "   category           info\n",
       "0         0       Business\n",
       "1         1  Entertainment\n",
       "2         2       Politics\n",
       "3         3         Sports\n",
       "4         4           Tech\n",
       "5         5          World"
      ]
     },
     "execution_count": 41,
     "metadata": {},
     "output_type": "execute_result"
    }
   ],
   "source": [
    "category_data"
   ]
  },
  {
   "cell_type": "code",
   "execution_count": 57,
   "metadata": {},
   "outputs": [
    {
     "data": {
      "text/plain": [
       "1     bruce lee statue divided cityin bosnia , one m...\n",
       "10    harry argybargyprince charles asked scotland y...\n",
       "29    israel kills 3 palestinians big gaza incursion...\n",
       "34    folly sole superpower writ small authorsthink ...\n",
       "37    deep impact space probe aims slam comet reuter...\n",
       "Name: text, dtype: object"
      ]
     },
     "execution_count": 57,
     "metadata": {},
     "output_type": "execute_result"
    }
   ],
   "source": [
    "data[data['kmeans_cluster'] == 0]['text'].head(5) # world"
   ]
  },
  {
   "cell_type": "code",
   "execution_count": 58,
   "metadata": {},
   "outputs": [
    {
     "name": "stdout",
     "output_type": "stream",
     "text": [
      "bruce lee statue divided cityin bosnia , one man hero often another man villain , citizens decided honour one serbs , croats muslims look kung fu great bruce lee .\n",
      "harry argybargyprince charles asked scotland yard indepth report son harry trip argentina reports excessive drinking kidnap plot .\n",
      "israel kills 3 palestinians big gaza incursion reutersreuters israeli forces killed threepalestinians , including two teenagers , wednesday afterstorming northern gaza strip third time asmany months quell palestinian rocket fire israel .\n",
      "folly sole superpower writ small authorsthink little imperial folly heres backstory . years invading iraq disbanding saddam husseins military u.s. sunk 25 billion standing new iraqi army .\n",
      "deep impact space probe aims slam comet reutersreuters astronomers plan slam anarmchairsized impactor comet tempel 1 see whatsinside possibly help future scientists determine tokeep space rocks colliding earth .\n"
     ]
    }
   ],
   "source": [
    "print(data['text'][1])\n",
    "print(data['text'][10])\n",
    "print(data['text'][29])\n",
    "print(data['text'][34])\n",
    "print(data['text'][37])"
   ]
  },
  {
   "cell_type": "code",
   "execution_count": 59,
   "metadata": {},
   "outputs": [
    {
     "data": {
      "text/plain": [
       "0     spanish coach facing action race rowmadrid afp...\n",
       "13    game day preview game time 600 pmcharlotte , n...\n",
       "21    blake leeper wants first american paralympian ...\n",
       "22    college basketball georgia tech , uconn winatl...\n",
       "24    kentucky fan gets national champs tattoo . let...\n",
       "Name: text, dtype: object"
      ]
     },
     "execution_count": 59,
     "metadata": {},
     "output_type": "execute_result"
    }
   ],
   "source": [
    "data[data['kmeans_cluster'] == 1]['text'].head(5) # sport"
   ]
  },
  {
   "cell_type": "code",
   "execution_count": 60,
   "metadata": {},
   "outputs": [
    {
     "name": "stdout",
     "output_type": "stream",
     "text": [
      "spanish coach facing action race rowmadrid afp spanish national team coach luis aragones faces formal investigation spain football federation decided open disciplinary proceedings racist comments thierry henry france arsenal .\n",
      "game day preview game time 600 pmcharlotte , north carolina ticker detroit shock face critical road test saturday take charlotte sting charlotte coliseum .\n",
      "blake leeper wants first american paralympian olympics authorsblake leeper may training rio 2016 olympic games found time stop samsung smart lounge talk goals technology help people like compete high level .\n",
      "college basketball georgia tech , uconn winatlanta sports network bj elder poured gamehigh 27 points lead fourthranked georgia tech convincing 9968 win michigan accbig ten challenge alexander memorial coliseum .\n",
      "kentucky fan gets national champs tattoo . lets hope happens . authorsthats real confidence bro .\n"
     ]
    }
   ],
   "source": [
    "print(data['text'][0])\n",
    "print(data['text'][13])\n",
    "print(data['text'][21])\n",
    "print(data['text'][22])\n",
    "print(data['text'][24])"
   ]
  },
  {
   "cell_type": "code",
   "execution_count": 61,
   "metadata": {},
   "outputs": [
    {
     "data": {
      "text/plain": [
       "3     macromedia contributes ebay storesmacromedia a...\n",
       "4     qualcomm plans phone cellular repairsovertheai...\n",
       "5     thomson back bluray hddvdcompany , one core ba...\n",
       "23    ftc files first lawsuit spyware concernsthe fe...\n",
       "31    sony psp draws crowds lines first day reutersr...\n",
       "Name: text, dtype: object"
      ]
     },
     "execution_count": 61,
     "metadata": {},
     "output_type": "execute_result"
    }
   ],
   "source": [
    "data[data['kmeans_cluster'] == 2]['text'].head(5) # Tech"
   ]
  },
  {
   "cell_type": "code",
   "execution_count": 62,
   "metadata": {},
   "outputs": [
    {
     "name": "stdout",
     "output_type": "stream",
     "text": [
      "macromedia contributes ebay storesmacromedia announced special version contribute website editing application designed simplify creation customisation ebay stores .\n",
      "qualcomm plans phone cellular repairsovertheair fixes cell phones comes qualcomms cdma .\n",
      "thomson back bluray hddvdcompany , one core backers bluray , also support rival format .\n",
      "ftc files first lawsuit spyware concernsthe federal trade commission formally announced yesterday first assault spyware bits computer code surreptitiously install computers internet users\n",
      "sony psp draws crowds lines first day reutersreuters game fans stood lines chillytokyo night among first world get theirhands sony corp.s playstation portable , consumerelectronics firms first handheld game machine .\n"
     ]
    }
   ],
   "source": [
    "print(data['text'][3])\n",
    "print(data['text'][4])\n",
    "print(data['text'][5])\n",
    "print(data['text'][23])\n",
    "print(data['text'][31])"
   ]
  },
  {
   "cell_type": "code",
   "execution_count": 63,
   "metadata": {},
   "outputs": [
    {
     "data": {
      "text/plain": [
       "2     lovers left alives tilda swinton talks almost ...\n",
       "6     time talk baseballits time talk serious risks ...\n",
       "8     obama marks anniversary 911 attacks moment sil...\n",
       "9     republican congressman says trump apologize ob...\n",
       "11    kerry rolls taxcut plan middle classafter two ...\n",
       "Name: text, dtype: object"
      ]
     },
     "execution_count": 63,
     "metadata": {},
     "output_type": "execute_result"
    }
   ],
   "source": [
    "data[data['kmeans_cluster'] == 3]['text'].head(5) # entertainment"
   ]
  },
  {
   "cell_type": "code",
   "execution_count": 64,
   "metadata": {},
   "outputs": [
    {
     "name": "stdout",
     "output_type": "stream",
     "text": [
      "lovers left alives tilda swinton talks almost quitting acting yasmine hamdan performs hal live nyc huffpo exclusive videos authorsyasmine hamdan performs hal also sings film scene two worldweary vampires begin heal find way continue living remember power mystery creation .\n",
      "time talk baseballits time talk serious risks potential benefits building expensive ballpark washington .\n",
      "obama marks anniversary 911 attacks moment silence authorswe stand strong ever .\n",
      "republican congressman says trump apologize obama uk authorsbest hold breath one .\n",
      "kerry rolls taxcut plan middle classafter two weeks focusing iraq , democratic presidential challenger john kerry turned emphasis economy saturday , delivering called plan quotmiddleclass families .\n"
     ]
    }
   ],
   "source": [
    "print(data['text'][2])\n",
    "print(data['text'][6])\n",
    "print(data['text'][8])\n",
    "print(data['text'][9])\n",
    "print(data['text'][11])"
   ]
  },
  {
   "cell_type": "code",
   "execution_count": 68,
   "metadata": {},
   "outputs": [
    {
     "data": {
      "text/plain": [
       "7     bump stock maker resumes sales one month las v...\n",
       "19    congress spikes handout private equity authors...\n",
       "20    deeres color greenwith big tractors , big sale...\n",
       "27    kmartsears merger price , qualityaverage custo...\n",
       "51    oil falls 49 nigeria ceasefirelondon reuters o...\n",
       "Name: text, dtype: object"
      ]
     },
     "execution_count": 68,
     "metadata": {},
     "output_type": "execute_result"
    }
   ],
   "source": [
    "data[data['kmeans_cluster'] == 4]['text'].head(5) # Business"
   ]
  },
  {
   "cell_type": "code",
   "execution_count": 66,
   "metadata": {},
   "outputs": [
    {
     "name": "stdout",
     "output_type": "stream",
     "text": [
      "bump stock maker resumes sales one month las vegas mass shooting authorsmove along nothing see .\n",
      "congress spikes handout private equity authorsa wall street firms almost big .\n",
      "deeres color greenwith big tractors , big sales , big earnings , deeres hoeing profitable row .\n",
      "kmartsears merger price , qualityaverage customers know thing ministers high finance understand price . shoppers thursday billings sears store eager find proposed\n",
      "oil falls 49 nigeria ceasefirelondon reuters oil prices dropped record highs 50 barrel wednesday u.s. government reported surprise increase crude stocks rebels nigerias oilrich delta region agreed ceasefire .\n"
     ]
    }
   ],
   "source": [
    "print(data['text'][7])\n",
    "print(data['text'][19])\n",
    "print(data['text'][20])\n",
    "print(data['text'][27])\n",
    "print(data['text'][51])"
   ]
  },
  {
   "cell_type": "code",
   "execution_count": 67,
   "metadata": {},
   "outputs": [
    {
     "data": {
      "text/plain": [
       "18    fair way choose candidates republican debate s...\n",
       "25                                top short_description\n",
       "33              memo epa chief pruitt short_description\n",
       "68                     satire save us short_description\n",
       "76                              watch short_description\n",
       "Name: text, dtype: object"
      ]
     },
     "execution_count": 67,
     "metadata": {},
     "output_type": "execute_result"
    }
   ],
   "source": [
    "data[data['kmeans_cluster'] == 5]['text'].head(5) # politics"
   ]
  },
  {
   "cell_type": "code",
   "execution_count": 53,
   "metadata": {},
   "outputs": [
    {
     "name": "stdout",
     "output_type": "stream",
     "text": [
      "fair way choose candidates republican debate short_description\n",
      "top short_description\n",
      "memo epa chief pruitt short_description\n"
     ]
    }
   ],
   "source": [
    "print(data['text'][18])\n",
    "print(data['text'][25])\n",
    "print(data['text'][33])"
   ]
  },
  {
   "cell_type": "code",
   "execution_count": 70,
   "metadata": {},
   "outputs": [
    {
     "data": {
      "text/plain": [
       "kmeans_cluster\n",
       "3    14927\n",
       "1    12011\n",
       "2    10261\n",
       "4    10138\n",
       "0     9940\n",
       "5     2723\n",
       "Name: count, dtype: int64"
      ]
     },
     "execution_count": 70,
     "metadata": {},
     "output_type": "execute_result"
    }
   ],
   "source": [
    "data['kmeans_cluster'].value_counts()"
   ]
  },
  {
   "cell_type": "code",
   "execution_count": 71,
   "metadata": {},
   "outputs": [],
   "source": [
    "mapping_dict = {\n",
    "    0: 5,\n",
    "    1: 3,\n",
    "    2: 4,\n",
    "    3: 1,\n",
    "    4: 0,\n",
    "    5: 2\n",
    "}\n",
    "\n",
    "data['mapping'] = data['kmeans_cluster'].apply(lambda x : mapping_dict[x])"
   ]
  },
  {
   "cell_type": "code",
   "execution_count": 72,
   "metadata": {},
   "outputs": [
    {
     "data": {
      "text/html": [
       "<div>\n",
       "<style scoped>\n",
       "    .dataframe tbody tr th:only-of-type {\n",
       "        vertical-align: middle;\n",
       "    }\n",
       "\n",
       "    .dataframe tbody tr th {\n",
       "        vertical-align: top;\n",
       "    }\n",
       "\n",
       "    .dataframe thead th {\n",
       "        text-align: right;\n",
       "    }\n",
       "</style>\n",
       "<table border=\"1\" class=\"dataframe\">\n",
       "  <thead>\n",
       "    <tr style=\"text-align: right;\">\n",
       "      <th></th>\n",
       "      <th>id</th>\n",
       "      <th>category</th>\n",
       "    </tr>\n",
       "  </thead>\n",
       "  <tbody>\n",
       "    <tr>\n",
       "      <th>0</th>\n",
       "      <td>NEWS_00000</td>\n",
       "      <td>3</td>\n",
       "    </tr>\n",
       "    <tr>\n",
       "      <th>1</th>\n",
       "      <td>NEWS_00001</td>\n",
       "      <td>5</td>\n",
       "    </tr>\n",
       "    <tr>\n",
       "      <th>2</th>\n",
       "      <td>NEWS_00002</td>\n",
       "      <td>1</td>\n",
       "    </tr>\n",
       "    <tr>\n",
       "      <th>3</th>\n",
       "      <td>NEWS_00003</td>\n",
       "      <td>4</td>\n",
       "    </tr>\n",
       "    <tr>\n",
       "      <th>4</th>\n",
       "      <td>NEWS_00004</td>\n",
       "      <td>4</td>\n",
       "    </tr>\n",
       "    <tr>\n",
       "      <th>...</th>\n",
       "      <td>...</td>\n",
       "      <td>...</td>\n",
       "    </tr>\n",
       "    <tr>\n",
       "      <th>59995</th>\n",
       "      <td>NEWS_59995</td>\n",
       "      <td>3</td>\n",
       "    </tr>\n",
       "    <tr>\n",
       "      <th>59996</th>\n",
       "      <td>NEWS_59996</td>\n",
       "      <td>0</td>\n",
       "    </tr>\n",
       "    <tr>\n",
       "      <th>59997</th>\n",
       "      <td>NEWS_59997</td>\n",
       "      <td>3</td>\n",
       "    </tr>\n",
       "    <tr>\n",
       "      <th>59998</th>\n",
       "      <td>NEWS_59998</td>\n",
       "      <td>0</td>\n",
       "    </tr>\n",
       "    <tr>\n",
       "      <th>59999</th>\n",
       "      <td>NEWS_59999</td>\n",
       "      <td>4</td>\n",
       "    </tr>\n",
       "  </tbody>\n",
       "</table>\n",
       "<p>60000 rows × 2 columns</p>\n",
       "</div>"
      ],
      "text/plain": [
       "               id  category\n",
       "0      NEWS_00000         3\n",
       "1      NEWS_00001         5\n",
       "2      NEWS_00002         1\n",
       "3      NEWS_00003         4\n",
       "4      NEWS_00004         4\n",
       "...           ...       ...\n",
       "59995  NEWS_59995         3\n",
       "59996  NEWS_59996         0\n",
       "59997  NEWS_59997         3\n",
       "59998  NEWS_59998         0\n",
       "59999  NEWS_59999         4\n",
       "\n",
       "[60000 rows x 2 columns]"
      ]
     },
     "execution_count": 72,
     "metadata": {},
     "output_type": "execute_result"
    }
   ],
   "source": [
    "sample = pd.read_csv('data/sample_submission.csv')\n",
    "sample['category'] = data['mapping'].values\n",
    "sample"
   ]
  },
  {
   "cell_type": "code",
   "execution_count": 73,
   "metadata": {},
   "outputs": [],
   "source": [
    "sample.to_csv('submit_first.csv', index = False)"
   ]
  },
  {
   "cell_type": "markdown",
   "metadata": {},
   "source": [
    "# 사전학습 모델"
   ]
  },
  {
   "cell_type": "code",
   "execution_count": 12,
   "metadata": {},
   "outputs": [
    {
     "data": {
      "application/vnd.jupyter.widget-view+json": {
       "model_id": "613f46833dcd44968cc0d32e11563199",
       "version_major": 2,
       "version_minor": 0
      },
      "text/plain": [
       "Downloading (…)e9125/.gitattributes:   0%|          | 0.00/1.18k [00:00<?, ?B/s]"
      ]
     },
     "metadata": {},
     "output_type": "display_data"
    },
    {
     "data": {
      "application/vnd.jupyter.widget-view+json": {
       "model_id": "e9794c1e1ac941b5b6608ba0a575d00e",
       "version_major": 2,
       "version_minor": 0
      },
      "text/plain": [
       "Downloading (…)_Pooling/config.json:   0%|          | 0.00/190 [00:00<?, ?B/s]"
      ]
     },
     "metadata": {},
     "output_type": "display_data"
    },
    {
     "data": {
      "application/vnd.jupyter.widget-view+json": {
       "model_id": "8db8fa8518f045748beb96a426153149",
       "version_major": 2,
       "version_minor": 0
      },
      "text/plain": [
       "Downloading (…)7e55de9125/README.md:   0%|          | 0.00/10.6k [00:00<?, ?B/s]"
      ]
     },
     "metadata": {},
     "output_type": "display_data"
    },
    {
     "data": {
      "application/vnd.jupyter.widget-view+json": {
       "model_id": "58399727247a42cdb6556b832691f2cb",
       "version_major": 2,
       "version_minor": 0
      },
      "text/plain": [
       "Downloading (…)55de9125/config.json:   0%|          | 0.00/612 [00:00<?, ?B/s]"
      ]
     },
     "metadata": {},
     "output_type": "display_data"
    },
    {
     "data": {
      "application/vnd.jupyter.widget-view+json": {
       "model_id": "fc8950be449e4e1b838830879dcadcf0",
       "version_major": 2,
       "version_minor": 0
      },
      "text/plain": [
       "Downloading (…)ce_transformers.json:   0%|          | 0.00/116 [00:00<?, ?B/s]"
      ]
     },
     "metadata": {},
     "output_type": "display_data"
    },
    {
     "data": {
      "application/vnd.jupyter.widget-view+json": {
       "model_id": "e54d8f90f7114074baf30e3455ffe67d",
       "version_major": 2,
       "version_minor": 0
      },
      "text/plain": [
       "Downloading (…)125/data_config.json:   0%|          | 0.00/39.3k [00:00<?, ?B/s]"
      ]
     },
     "metadata": {},
     "output_type": "display_data"
    },
    {
     "data": {
      "application/vnd.jupyter.widget-view+json": {
       "model_id": "62463f8690be4c0b8b428311b952bc33",
       "version_major": 2,
       "version_minor": 0
      },
      "text/plain": [
       "Downloading pytorch_model.bin:   0%|          | 0.00/90.9M [00:00<?, ?B/s]"
      ]
     },
     "metadata": {},
     "output_type": "display_data"
    },
    {
     "data": {
      "application/vnd.jupyter.widget-view+json": {
       "model_id": "43102ea7543c425aad775e90afc3f205",
       "version_major": 2,
       "version_minor": 0
      },
      "text/plain": [
       "Downloading (…)nce_bert_config.json:   0%|          | 0.00/53.0 [00:00<?, ?B/s]"
      ]
     },
     "metadata": {},
     "output_type": "display_data"
    },
    {
     "data": {
      "application/vnd.jupyter.widget-view+json": {
       "model_id": "5145c1466f48415da5c229c73015c93d",
       "version_major": 2,
       "version_minor": 0
      },
      "text/plain": [
       "Downloading (…)cial_tokens_map.json:   0%|          | 0.00/112 [00:00<?, ?B/s]"
      ]
     },
     "metadata": {},
     "output_type": "display_data"
    },
    {
     "data": {
      "application/vnd.jupyter.widget-view+json": {
       "model_id": "c815e45fd2744ee7a3afe2834a3c8ed4",
       "version_major": 2,
       "version_minor": 0
      },
      "text/plain": [
       "Downloading (…)e9125/tokenizer.json:   0%|          | 0.00/466k [00:00<?, ?B/s]"
      ]
     },
     "metadata": {},
     "output_type": "display_data"
    },
    {
     "data": {
      "application/vnd.jupyter.widget-view+json": {
       "model_id": "a7a6e5671c8443f58a889a3504caf849",
       "version_major": 2,
       "version_minor": 0
      },
      "text/plain": [
       "Downloading (…)okenizer_config.json:   0%|          | 0.00/350 [00:00<?, ?B/s]"
      ]
     },
     "metadata": {},
     "output_type": "display_data"
    },
    {
     "data": {
      "application/vnd.jupyter.widget-view+json": {
       "model_id": "9b5500f6ad034ac4a179121af424c5f6",
       "version_major": 2,
       "version_minor": 0
      },
      "text/plain": [
       "Downloading (…)9125/train_script.py:   0%|          | 0.00/13.2k [00:00<?, ?B/s]"
      ]
     },
     "metadata": {},
     "output_type": "display_data"
    },
    {
     "data": {
      "application/vnd.jupyter.widget-view+json": {
       "model_id": "dcef19eec75745a69134dabf342d8d63",
       "version_major": 2,
       "version_minor": 0
      },
      "text/plain": [
       "Downloading (…)7e55de9125/vocab.txt:   0%|          | 0.00/232k [00:00<?, ?B/s]"
      ]
     },
     "metadata": {},
     "output_type": "display_data"
    },
    {
     "data": {
      "application/vnd.jupyter.widget-view+json": {
       "model_id": "fbc90495a00f46a4a7a275b67653eaac",
       "version_major": 2,
       "version_minor": 0
      },
      "text/plain": [
       "Downloading (…)5de9125/modules.json:   0%|          | 0.00/349 [00:00<?, ?B/s]"
      ]
     },
     "metadata": {},
     "output_type": "display_data"
    }
   ],
   "source": [
    "from lbl2vec import Lbl2Vec"
   ]
  },
  {
   "cell_type": "code",
   "execution_count": 36,
   "metadata": {},
   "outputs": [
    {
     "ename": "ValueError",
     "evalue": "keywords_list has to be an iterable list of lists with descriptive keywords of type str",
     "output_type": "error",
     "traceback": [
      "\u001b[1;31m---------------------------------------------------------------------------\u001b[0m",
      "\u001b[1;31mValueError\u001b[0m                                Traceback (most recent call last)",
      "\u001b[1;32mc:\\Users\\이동현\\Desktop\\블로깅\\dacon\\dacon_cluster.ipynb 셀 12\u001b[0m line \u001b[0;36m1\n\u001b[1;32m----> <a href='vscode-notebook-cell:/c%3A/Users/%EC%9D%B4%EB%8F%99%ED%98%84/Desktop/%EB%B8%94%EB%A1%9C%EA%B9%85/dacon/dacon_cluster.ipynb#X11sZmlsZQ%3D%3D?line=0'>1</a>\u001b[0m model \u001b[39m=\u001b[39m Lbl2Vec(keywords_list\u001b[39m=\u001b[39;49mcategory_data[\u001b[39m'\u001b[39;49m\u001b[39minfo\u001b[39;49m\u001b[39m'\u001b[39;49m]\u001b[39m.\u001b[39;49mtolist())\n",
      "File \u001b[1;32mc:\\Users\\이동현\\AppData\\Local\\Programs\\Python\\Python311\\Lib\\site-packages\\lbl2vec\\lbl2vec.py:135\u001b[0m, in \u001b[0;36mLbl2Vec.__init__\u001b[1;34m(self, keywords_list, tagged_documents, label_names, epochs, vector_size, min_count, window, sample, negative, workers, doc2vec_model, num_docs, similarity_threshold, similarity_threshold_offset, min_num_docs, clean_outliers, verbose)\u001b[0m\n\u001b[0;32m    132\u001b[0m \u001b[39m# validate keywords_list\u001b[39;00m\n\u001b[0;32m    133\u001b[0m \u001b[39mif\u001b[39;00m (\u001b[39mnot\u001b[39;00m \u001b[39misinstance\u001b[39m(keywords_list, \u001b[39mlist\u001b[39m)) \u001b[39mor\u001b[39;00m (\u001b[39mnot\u001b[39;00m \u001b[39mall\u001b[39m(\u001b[39misinstance\u001b[39m(i, \u001b[39mlist\u001b[39m) \u001b[39mfor\u001b[39;00m i \u001b[39min\u001b[39;00m keywords_list)) \u001b[39mor\u001b[39;00m (\n\u001b[0;32m    134\u001b[0m         \u001b[39mnot\u001b[39;00m \u001b[39mall\u001b[39m(\u001b[39misinstance\u001b[39m(i, \u001b[39mstr\u001b[39m) \u001b[39mfor\u001b[39;00m i \u001b[39min\u001b[39;00m [item \u001b[39mfor\u001b[39;00m sublist \u001b[39min\u001b[39;00m keywords_list \u001b[39mfor\u001b[39;00m item \u001b[39min\u001b[39;00m sublist])):\n\u001b[1;32m--> 135\u001b[0m     \u001b[39mraise\u001b[39;00m \u001b[39mValueError\u001b[39;00m(\n\u001b[0;32m    136\u001b[0m         \u001b[39m'\u001b[39m\u001b[39mkeywords_list has to be an iterable list of lists with descriptive keywords of type str\u001b[39m\u001b[39m'\u001b[39m)\n\u001b[0;32m    138\u001b[0m \u001b[39m# ToDo (optional): auto convert keywords to lower case and remove empty keywords\u001b[39;00m\n\u001b[0;32m    139\u001b[0m \n\u001b[0;32m    140\u001b[0m \u001b[39m# init labels DataFrame\u001b[39;00m\n\u001b[0;32m    141\u001b[0m \u001b[39mself\u001b[39m\u001b[39m.\u001b[39mlabels \u001b[39m=\u001b[39m pd\u001b[39m.\u001b[39mDataFrame(\u001b[39mlist\u001b[39m(\u001b[39mzip\u001b[39m(label_names, keywords_list)), columns\u001b[39m=\u001b[39m[\n\u001b[0;32m    142\u001b[0m     \u001b[39m'\u001b[39m\u001b[39mlabel_name\u001b[39m\u001b[39m'\u001b[39m, \u001b[39m'\u001b[39m\u001b[39mdescription_keywords\u001b[39m\u001b[39m'\u001b[39m])\n",
      "\u001b[1;31mValueError\u001b[0m: keywords_list has to be an iterable list of lists with descriptive keywords of type str"
     ]
    }
   ],
   "source": [
    "model = Lbl2Vec(keywords_list=category_data['info'].tolist())"
   ]
  },
  {
   "cell_type": "code",
   "execution_count": 2,
   "metadata": {},
   "outputs": [
    {
     "name": "stdout",
     "output_type": "stream",
     "text": [
      "True\n"
     ]
    }
   ],
   "source": [
    "import torch\n",
    "print(torch.cuda.is_available())"
   ]
  }
 ],
 "metadata": {
  "kernelspec": {
   "display_name": "Python 3",
   "language": "python",
   "name": "python3"
  },
  "language_info": {
   "codemirror_mode": {
    "name": "ipython",
    "version": 3
   },
   "file_extension": ".py",
   "mimetype": "text/x-python",
   "name": "python",
   "nbconvert_exporter": "python",
   "pygments_lexer": "ipython3",
   "version": "3.11.4"
  },
  "orig_nbformat": 4
 },
 "nbformat": 4,
 "nbformat_minor": 2
}
